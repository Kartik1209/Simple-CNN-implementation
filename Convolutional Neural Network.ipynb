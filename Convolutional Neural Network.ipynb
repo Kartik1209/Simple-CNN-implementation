{
 "cells": [
  {
   "cell_type": "code",
   "execution_count": 1,
   "metadata": {},
   "outputs": [
    {
     "name": "stdout",
     "output_type": "stream",
     "text": [
      "Requirement already satisfied: keras==2.3.1 in c:\\users\\kartik\\anaconda3\\lib\\site-packages (2.3.1)\n",
      "Requirement already satisfied: pyyaml in c:\\users\\kartik\\anaconda3\\lib\\site-packages (from keras==2.3.1) (5.1.2)\n",
      "Requirement already satisfied: scipy>=0.14 in c:\\users\\kartik\\anaconda3\\lib\\site-packages (from keras==2.3.1) (1.4.1)\n",
      "Requirement already satisfied: numpy>=1.9.1 in c:\\users\\kartik\\anaconda3\\lib\\site-packages (from keras==2.3.1) (1.18.5)\n",
      "Requirement already satisfied: h5py in c:\\users\\kartik\\anaconda3\\lib\\site-packages (from keras==2.3.1) (2.10.0)\n",
      "Requirement already satisfied: keras-applications>=1.0.6 in c:\\users\\kartik\\anaconda3\\lib\\site-packages (from keras==2.3.1) (1.0.8)\n",
      "Requirement already satisfied: six>=1.9.0 in c:\\users\\kartik\\anaconda3\\lib\\site-packages (from keras==2.3.1) (1.12.0)\n",
      "Requirement already satisfied: keras-preprocessing>=1.0.5 in c:\\users\\kartik\\anaconda3\\lib\\site-packages (from keras==2.3.1) (1.1.2)\n",
      "Note: you may need to restart the kernel to use updated packages.\n"
     ]
    }
   ],
   "source": [
    "pip install keras==2.3.1"
   ]
  },
  {
   "cell_type": "code",
   "execution_count": 2,
   "metadata": {},
   "outputs": [
    {
     "name": "stderr",
     "output_type": "stream",
     "text": [
      "Using TensorFlow backend.\n"
     ]
    }
   ],
   "source": [
    "import tensorflow as tf\n",
    "from keras.preprocessing.image import ImageDataGenerator"
   ]
  },
  {
   "cell_type": "code",
   "execution_count": 3,
   "metadata": {},
   "outputs": [
    {
     "data": {
      "text/plain": [
       "'2.3.0'"
      ]
     },
     "execution_count": 3,
     "metadata": {},
     "output_type": "execute_result"
    }
   ],
   "source": [
    "tf.__version__"
   ]
  },
  {
   "cell_type": "code",
   "execution_count": 4,
   "metadata": {},
   "outputs": [],
   "source": [
    "## Data Preprocessing"
   ]
  },
  {
   "cell_type": "code",
   "execution_count": 25,
   "metadata": {},
   "outputs": [
    {
     "name": "stdout",
     "output_type": "stream",
     "text": [
      "Found 8000 images belonging to 2 classes.\n"
     ]
    }
   ],
   "source": [
    "# Preprocessing the Training set\n",
    "\n",
    "train_datagen = ImageDataGenerator(\n",
    "        rescale = 1./255,\n",
    "        shear_range = 0.2,\n",
    "        zoom_range = 0.2,\n",
    "        horizontal_flip = True\n",
    ")\n",
    "\n",
    "train_set = train_datagen.flow_from_directory(\n",
    "    'D:/datasets/Image dataset/Convolutional Neural Networks (CNN)/dataset/training_set',\n",
    "    target_size = (64,64),\n",
    "    batch_size = 32,\n",
    "    class_mode = 'binary'\n",
    ")"
   ]
  },
  {
   "cell_type": "code",
   "execution_count": 37,
   "metadata": {},
   "outputs": [
    {
     "name": "stdout",
     "output_type": "stream",
     "text": [
      "Found 2000 images belonging to 2 classes.\n"
     ]
    }
   ],
   "source": [
    "# Preprocessing the Test set\n",
    "\n",
    "test_datagen = ImageDataGenerator(\n",
    "        rescale = 1./255,\n",
    ")\n",
    "\n",
    "test_set = test_datagen.flow_from_directory(\n",
    "    'D:/datasets/Image dataset/Convolutional Neural Networks (CNN)/dataset/test_set',\n",
    "    target_size = (64,64),\n",
    "    batch_size = 32,\n",
    "    class_mode = 'binary'\n",
    ")"
   ]
  },
  {
   "cell_type": "code",
   "execution_count": 38,
   "metadata": {},
   "outputs": [],
   "source": [
    "## Building the CNN."
   ]
  },
  {
   "cell_type": "code",
   "execution_count": 39,
   "metadata": {},
   "outputs": [],
   "source": [
    "# initialising the CNN.\n",
    "cnn = tf.keras.models.Sequential()"
   ]
  },
  {
   "cell_type": "code",
   "execution_count": 40,
   "metadata": {},
   "outputs": [],
   "source": [
    "# adding convolutional layer.\n",
    "cnn.add(tf.keras.layers.Conv2D(filters=32,kernel_size=3, activation='relu', input_shape=[64,64,3]))"
   ]
  },
  {
   "cell_type": "code",
   "execution_count": 41,
   "metadata": {},
   "outputs": [],
   "source": [
    "# Pooling.\n",
    "cnn.add(tf.keras.layers.MaxPool2D(pool_size=2, strides=2))"
   ]
  },
  {
   "cell_type": "code",
   "execution_count": 42,
   "metadata": {},
   "outputs": [],
   "source": [
    "# Adding second Convolutional layer.\n",
    "cnn.add(tf.keras.layers.Conv2D(filters=32,kernel_size=3, activation='relu'))\n",
    "cnn.add(tf.keras.layers.MaxPool2D(pool_size=2, strides=2))"
   ]
  },
  {
   "cell_type": "code",
   "execution_count": 43,
   "metadata": {},
   "outputs": [],
   "source": [
    "# Flattening.\n",
    "cnn.add(tf.keras.layers.Flatten())"
   ]
  },
  {
   "cell_type": "code",
   "execution_count": 44,
   "metadata": {},
   "outputs": [],
   "source": [
    "# Full Connection.\n",
    "cnn.add(tf.keras.layers.Dense(units=128,activation='relu'))"
   ]
  },
  {
   "cell_type": "code",
   "execution_count": 45,
   "metadata": {},
   "outputs": [],
   "source": [
    "# Output Layer\n",
    "cnn.add(tf.keras.layers.Dense(units=1, activation = 'sigmoid'))"
   ]
  },
  {
   "cell_type": "markdown",
   "metadata": {},
   "source": [
    "### Training the CNN."
   ]
  },
  {
   "cell_type": "code",
   "execution_count": 46,
   "metadata": {},
   "outputs": [],
   "source": [
    "# Compiling the CNN.\n",
    "\n",
    "cnn.compile(optimizer='adam', loss = 'binary_crossentropy', metrics = ['accuracy'])"
   ]
  },
  {
   "cell_type": "code",
   "execution_count": 47,
   "metadata": {},
   "outputs": [],
   "source": [
    "# Training the CNN on the Trainig set and evaluating it on the Test Set."
   ]
  },
  {
   "cell_type": "code",
   "execution_count": 48,
   "metadata": {},
   "outputs": [
    {
     "name": "stdout",
     "output_type": "stream",
     "text": [
      "Epoch 1/25\n",
      "250/250 [==============================] - 226s 905ms/step - loss: 0.6835 - accuracy: 0.5635 - val_loss: 0.6387 - val_accuracy: 0.6470\n",
      "Epoch 2/25\n",
      "250/250 [==============================] - 36s 145ms/step - loss: 0.6157 - accuracy: 0.6534 - val_loss: 0.5527 - val_accuracy: 0.7225\n",
      "Epoch 3/25\n",
      "250/250 [==============================] - 39s 155ms/step - loss: 0.5611 - accuracy: 0.7109 - val_loss: 0.6711 - val_accuracy: 0.6380\n",
      "Epoch 4/25\n",
      "250/250 [==============================] - 38s 152ms/step - loss: 0.5328 - accuracy: 0.7283 - val_loss: 0.5140 - val_accuracy: 0.7555\n",
      "Epoch 5/25\n",
      "250/250 [==============================] - 36s 142ms/step - loss: 0.5043 - accuracy: 0.7515 - val_loss: 0.4917 - val_accuracy: 0.7705\n",
      "Epoch 6/25\n",
      "250/250 [==============================] - 35s 141ms/step - loss: 0.4869 - accuracy: 0.7634 - val_loss: 0.5123 - val_accuracy: 0.7640\n",
      "Epoch 7/25\n",
      "250/250 [==============================] - 35s 141ms/step - loss: 0.4650 - accuracy: 0.7766 - val_loss: 0.5459 - val_accuracy: 0.7250\n",
      "Epoch 8/25\n",
      "250/250 [==============================] - 36s 144ms/step - loss: 0.4483 - accuracy: 0.7876 - val_loss: 0.4817 - val_accuracy: 0.7730\n",
      "Epoch 9/25\n",
      "250/250 [==============================] - 37s 149ms/step - loss: 0.4355 - accuracy: 0.7919 - val_loss: 0.5414 - val_accuracy: 0.7490\n",
      "Epoch 10/25\n",
      "250/250 [==============================] - 42s 167ms/step - loss: 0.4152 - accuracy: 0.8115 - val_loss: 0.4819 - val_accuracy: 0.7745\n",
      "Epoch 11/25\n",
      "250/250 [==============================] - 42s 168ms/step - loss: 0.3979 - accuracy: 0.8159 - val_loss: 0.4638 - val_accuracy: 0.7940\n",
      "Epoch 12/25\n",
      "250/250 [==============================] - 42s 167ms/step - loss: 0.3893 - accuracy: 0.8269 - val_loss: 0.4855 - val_accuracy: 0.7845\n",
      "Epoch 13/25\n",
      "250/250 [==============================] - 43s 171ms/step - loss: 0.3690 - accuracy: 0.8303 - val_loss: 0.4697 - val_accuracy: 0.7875\n",
      "Epoch 14/25\n",
      "250/250 [==============================] - 42s 170ms/step - loss: 0.3488 - accuracy: 0.8440 - val_loss: 0.5197 - val_accuracy: 0.7805\n",
      "Epoch 15/25\n",
      "250/250 [==============================] - 37s 149ms/step - loss: 0.3448 - accuracy: 0.8472 - val_loss: 0.4582 - val_accuracy: 0.8045\n",
      "Epoch 16/25\n",
      "250/250 [==============================] - 41s 166ms/step - loss: 0.3250 - accuracy: 0.8589 - val_loss: 0.4794 - val_accuracy: 0.8020\n",
      "Epoch 17/25\n",
      "250/250 [==============================] - 43s 172ms/step - loss: 0.3108 - accuracy: 0.8659 - val_loss: 0.4661 - val_accuracy: 0.8165\n",
      "Epoch 18/25\n",
      "250/250 [==============================] - 43s 170ms/step - loss: 0.2970 - accuracy: 0.8705 - val_loss: 0.4690 - val_accuracy: 0.8100\n",
      "Epoch 19/25\n",
      "250/250 [==============================] - 45s 179ms/step - loss: 0.2833 - accuracy: 0.8771 - val_loss: 0.5026 - val_accuracy: 0.7975\n",
      "Epoch 20/25\n",
      "250/250 [==============================] - 42s 169ms/step - loss: 0.2711 - accuracy: 0.8876 - val_loss: 0.5084 - val_accuracy: 0.8145\n",
      "Epoch 21/25\n",
      "250/250 [==============================] - 42s 169ms/step - loss: 0.2582 - accuracy: 0.8924 - val_loss: 0.4819 - val_accuracy: 0.8140\n",
      "Epoch 22/25\n",
      "250/250 [==============================] - 42s 170ms/step - loss: 0.2480 - accuracy: 0.8939 - val_loss: 0.5188 - val_accuracy: 0.8070\n",
      "Epoch 23/25\n",
      "250/250 [==============================] - 42s 168ms/step - loss: 0.2336 - accuracy: 0.9040 - val_loss: 0.5746 - val_accuracy: 0.7860\n",
      "Epoch 24/25\n",
      "250/250 [==============================] - 43s 172ms/step - loss: 0.2257 - accuracy: 0.9039 - val_loss: 0.5269 - val_accuracy: 0.7900\n",
      "Epoch 25/25\n",
      "250/250 [==============================] - 43s 171ms/step - loss: 0.2085 - accuracy: 0.9153 - val_loss: 0.5919 - val_accuracy: 0.7825\n"
     ]
    },
    {
     "data": {
      "text/plain": [
       "<tensorflow.python.keras.callbacks.History at 0x18b17ceda48>"
      ]
     },
     "execution_count": 48,
     "metadata": {},
     "output_type": "execute_result"
    }
   ],
   "source": [
    "cnn.fit(x = train_set, validation_data = test_set, epochs = 25)"
   ]
  },
  {
   "cell_type": "code",
   "execution_count": 49,
   "metadata": {},
   "outputs": [],
   "source": [
    "## Making a single prediction.\n",
    "\n",
    "import numpy as np\n",
    "from keras.preprocessing import image"
   ]
  },
  {
   "cell_type": "code",
   "execution_count": 53,
   "metadata": {},
   "outputs": [],
   "source": [
    "test_image = image.load_img(\"D:/datasets/Image dataset/Convolutional Neural Networks (CNN)/dataset/single_prediction/cat_or_dog_1.jpg\", target_size = (64,64))\n",
    "\n",
    "test_image = image.img_to_array(test_image)\n",
    "test_image = np.expand_dims(test_image, axis = 0)\n",
    "result = cnn.predict(test_image)\n",
    "train_set.class_indices\n",
    "if result[0][0] == 1:\n",
    "    prediction = 'dog'\n",
    "else:\n",
    "    prediction = 'cat'"
   ]
  },
  {
   "cell_type": "code",
   "execution_count": 54,
   "metadata": {},
   "outputs": [
    {
     "name": "stdout",
     "output_type": "stream",
     "text": [
      "dog\n"
     ]
    }
   ],
   "source": [
    "print(prediction)"
   ]
  },
  {
   "cell_type": "code",
   "execution_count": null,
   "metadata": {},
   "outputs": [],
   "source": []
  }
 ],
 "metadata": {
  "kernelspec": {
   "display_name": "Python 3",
   "language": "python",
   "name": "python3"
  },
  "language_info": {
   "codemirror_mode": {
    "name": "ipython",
    "version": 3
   },
   "file_extension": ".py",
   "mimetype": "text/x-python",
   "name": "python",
   "nbconvert_exporter": "python",
   "pygments_lexer": "ipython3",
   "version": "3.7.4"
  }
 },
 "nbformat": 4,
 "nbformat_minor": 2
}
